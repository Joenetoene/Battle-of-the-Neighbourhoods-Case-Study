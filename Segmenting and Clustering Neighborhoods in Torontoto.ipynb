{
    "cells": [
        {
            "cell_type": "code",
            "execution_count": 17,
            "metadata": {},
            "outputs": [
                {
                    "name": "stdout",
                    "output_type": "stream",
                    "text": "Solving environment: done\n\n## Package Plan ##\n\n  environment location: /opt/conda/envs/Python36\n\n  added / updated specs: \n    - lxml\n\n\nThe following packages will be downloaded:\n\n    package                    |            build\n    ---------------------------|-----------------\n    lxml-4.5.0                 |   py36hefd8a0e_0         1.6 MB  anaconda\n\nThe following packages will be UPDATED:\n\n    lxml: 4.3.1-py36hefd8a0e_0 --> 4.5.0-py36hefd8a0e_0 anaconda\n\n\nDownloading and Extracting Packages\nlxml-4.5.0           | 1.6 MB    | ##################################### | 100% \nPreparing transaction: done\nVerifying transaction: done\nExecuting transaction: done\n"
                }
            ],
            "source": "#Installing Packages\n#!conda install -c anaconda beautifulsoup4\n#!conda install -c anaconda lxml"
        },
        {
            "cell_type": "code",
            "execution_count": 74,
            "metadata": {},
            "outputs": [],
            "source": "#importing packages\nfrom bs4 import BeautifulSoup\nimport urllib.request\nimport pandas as pd"
        },
        {
            "cell_type": "code",
            "execution_count": 96,
            "metadata": {},
            "outputs": [
                {
                    "name": "stdout",
                    "output_type": "stream",
                    "text": "df2 shape:  (103, 3)\ndf shape:  (103, 3)\n--> Shape ist the same: There are no duplicates, task outdated?!\n"
                }
            ],
            "source": "#Opening URL\nwebUrl = urllib.request.urlopen('https://en.wikipedia.org/wiki/List_of_postal_codes_of_Canada:_M')\n\n#Reading HTML from URL\nhtml_doc = webUrl.read()\n\n#Creating Beautiful Soup Object\nsoup = BeautifulSoup(html_doc,'html.parser')\n\n#Identifying table in soup and transforming it to a dataframe\ntable = soup.find_all('table')\ndf = pd.read_html(str(table))[0]\n\n#Dropping all rows with string = \"Not assigned\"\ndf = df[df.Borough != 'Not assigned']\n\n#Resetting Index\ndf = df.reset_index(drop=True)\n\n#Checking if there are duplicates\ndf2 = df.drop_duplicates(subset='Postal Code', keep='first')\nprint('df2 shape: ' , df2.shape)\nprint('df shape: ' , df.shape)\n\nprint('--> Shape ist the same: There are no duplicates, task outdated?!')\n\n\n"
        },
        {
            "cell_type": "code",
            "execution_count": 97,
            "metadata": {},
            "outputs": [
                {
                    "data": {
                        "text/plain": "(103, 3)"
                    },
                    "execution_count": 97,
                    "metadata": {},
                    "output_type": "execute_result"
                }
            ],
            "source": "df.shape\n"
        },
        {
            "cell_type": "code",
            "execution_count": null,
            "metadata": {},
            "outputs": [],
            "source": ""
        }
    ],
    "metadata": {
        "kernelspec": {
            "display_name": "Python 3.6",
            "language": "python",
            "name": "python3"
        },
        "language_info": {
            "codemirror_mode": {
                "name": "ipython",
                "version": 3
            },
            "file_extension": ".py",
            "mimetype": "text/x-python",
            "name": "python",
            "nbconvert_exporter": "python",
            "pygments_lexer": "ipython3",
            "version": "3.6.9"
        }
    },
    "nbformat": 4,
    "nbformat_minor": 1
}